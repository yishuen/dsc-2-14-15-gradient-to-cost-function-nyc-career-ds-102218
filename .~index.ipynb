{
 "cells": [
  {
   "cell_type": "markdown",
   "metadata": {},
   "source": [
    "# Gradient to Cost Function"
   ]
  },
  {
   "cell_type": "markdown",
   "metadata": {},
   "source": [
    "## Introduction"
   ]
  },
  {
   "cell_type": "markdown",
   "metadata": {},
   "source": [
    "In the previous lesson, we learned the mathematical definition of a gradient.  We saw that the gradient of a function was a combination of our partial derivatives with respect to each variable of that function.  We saw the direction of gradient descent was simply to move in the negative direction of the gradient.  For example, if the direction of ascent of a function is a move up and to the right, the descent is down and to the left. In this lesson we will apply gradient descent to our cost function to see how we can move towards a best fit regression line by changing variables of $m$ and $b$.  "
   ]
  },
  {
   "cell_type": "markdown",
   "metadata": {},
   "source": [
    "## Objectives\n",
    "You will be able to:\n",
    "- Represent the RSS as a multivariable function\n",
    "- Understand how to create a cost function when we allow both slope and intercept to change in our linear regression\n"
   ]
  },
  {
   "cell_type": "markdown",
   "metadata": {},
   "source": [
    "## Representing RSS as a multivariable function"
   ]
  },
  {
   "cell_type": "markdown",
   "metadata": {},
   "source": [
    "Think about why gradient descent applies so well to a cost function.  Initially, we said that the cost of our function, meaning the difference between what our regression line predicted and the dataset, changed as we altered the y-intercept or the slope of the function.\n",
    "\n",
    "Remember that mathematically, when we say cost function, we use the residual sum of squares where \n",
    "$$ \n",
    "\\begin{align}\n",
    "RSS &= \\sum_{i=1}^n(actual - expected)^2 \\\\\n",
    "&= \\sum_{i=1}^n(y_i - \\hat{y})^2 \\\\\n",
    "&= \\sum_{i=1}^n(y_i - (mx_i + b))^2\n",
    "\\end{align}\n",
    "$$ \n",
    "for all $x$ and $y$ values of our dataset.  So in the graph directly below, $x_i$ and $y_i$  would be our points representing a movie's budget and revenue.  Meanwhile, $mx_i + b $ is our predicted $y$ value for a given $x$ value, of a budget. \n",
    "\n",
    "And RSS takes the difference between $mx_i + b$, the $y_i$ value our regression line (the red line below) predicts, and our actual $y$, and sum up these squares for each piece of data in our dataset.  That is the residual sum of squares."
   ]
  },
  {
   "cell_type": "code",
   "execution_count": 1,
   "metadata": {},
   "outputs": [],
   "source": [
    "import numpy as np\n",
    "import matplotlib.pyplot as plt\n",
    "\n",
    "def regression_formula(x):\n",
    "    return 1.8 + 46*x\n",
    "\n",
    "np.random.seed(225)\n",
    "\n",
    "x = np.random.rand(30,1).reshape(30)\n",
    "y_randterm = np.random.normal(0,3,30)\n",
    "y = 3+ 50* x + y_randterm\n",
    "\n",
    "plt.figure(figsize=(7,5))\n",
    "plt.plot(x, y, '.b')\n",
    "plt.plot(x, regression_formula(x), '-', color=\"red\")\n",
    "plt.xlabel(\"x\", fontsize=14)\n",
    "plt.ylabel(\"y\", fontsize=14);"
   ]
  },
  {
   "cell_type": "markdown",
   "metadata": {},
   "source": [
    "And we when we just plotted how RSS changes as we change one variable of our regression line, $m$ or $b$, we note how this looks like a curve, and call it our cost curve."
   ]
  },
  {
   "cell_type": "code",
   "execution_count": 2,
   "metadata": {},
   "outputs": [
    {
     "data": {
      "image/png": "[encoded data removed]",
      "text/plain": [
       "<Figure size 720x504 with 1 Axes>"
      ]
     },
     "metadata": {
      "needs_background": "light"
     },
     "output_type": "display_data"
    }
   ],
   "source": [
    "def errors(x_values, y_values, m, b):\n",
    "    y_line = (b + m*x_values)\n",
    "    return (y_values - y_line)\n",
    "\n",
    "def squared_errors(x_values, y_values, m, b):\n",
    "    return np.round(errors(x_values, y_values, m, b)**2, 2)\n",
    "\n",
    "def residual_sum_squares(x_values, y_values, m, b):\n",
    "    return round(sum(squared_errors(x_values, y_values, m, b)), 2)\n",
    "\n",
    "table = np.zeros((20,2))\n",
    "for idx, val in enumerate(range(40, 60)):\n",
    "    table[idx,0] = val\n",
    "    table[idx,1] = residual_sum_squares(x, y, val, 1.319)\n",
    "    \n",
    "plt.figure(figsize=(10,7))\n",
    "plt.plot(table[:,0], table[:,1], '-')\n",
    "plt.xlabel(\"m-values\", fontsize=14)\n",
    "plt.ylabel(\"RSS\", fontsize=14)\n",
    "plt.title(\"RSS with changes to slope\", fontsize=16);"
   ]
  },
  {
   "cell_type": "markdown",
   "metadata": {},
   "source": [
    "In two dimensions, we decrease our RSS simply by moving forwards or backwards along the cost curve which is the equivalent of changing our variable, in this case y-intercept.  So the cost curve above indicates that changing the regression line from having a $m$ slope from 42 to 45 decreases our cost, the RSS.\n",
    "\n",
    "Allowing us to change both variables, $m$ and $b$ means calculating how RSS varies with both $m$ and $b$. "
   ]
  },
  {
   "cell_type": "markdown",
   "metadata": {},
   "source": [
    "Because the RSS is a function of how we change our values of $m$ and $b$, we can express this relationship mathematically by saying the cost function, $J$ is the following:  \n",
    "$$\n",
    "\\begin{align}\n",
    "J(m, b) & = \\sum_{i=1}^{n}(y_i - \\hat{y})^2\\\\\n",
    "J(m, b) & = \\sum_{i=1}^{n}(y_i - (mx_i + b))^2 &&\\text{notice $\\hat{y} = mx + b$}\\\\\n",
    "\\end{align}\n",
    "$$\n",
    "\n",
    "In the function above, $J$ is a function of $m$ and $b$. $J$ just represents the residual sum of squares, which varies as the $m$ and $b$ variables of our regression line are changed.  "
   ]
  },
  {
   "cell_type": "markdown",
   "metadata": {},
   "source": [
    "Just our other multivariable functions we have seen thus far, we can display it in three dimensions, and it looks like the following.\n",
    "\n",
    "![](./gradientdescent.png)"
   ]
  },
  {
   "cell_type": "markdown",
   "metadata": {},
   "source": [
    "The three-dimensional graph above shows how the cost associated with our regression line changes as the slope and y-intercept values are changed.  "
   ]
  },
  {
   "cell_type": "markdown",
   "metadata": {},
   "source": [
    "## Calculating the gradient of our cost function"
   ]
  },
  {
   "cell_type": "markdown",
   "metadata": {},
   "source": [
    "Let's explore using gradient descent to determine how to change our regression line when we can alter both $m$ and $b$ variables.  When applied to a general multivariable function $f(x,y)$, gradient descent answered how much move the $x$ variable and the $y$ variable to produce the greatest decrease in output.  \n",
    "\n",
    "> Now that we are applying gradient descent to our cost curve $J(m, b)$, the technique should answer how much to move the $m$ variable and the $b$ variable to produce the greatest decrease in cost, or RSS. In other words, when altering our regression line, we want to know how much of this change should be derived from a move in the slope versus how much should be derived from a change in the y-intercept.\n",
    "\n",
    "As we know, the gradient of a function is simply the partial derivatives with respect to each of the variables, so:\n",
    "\n",
    "$$ \\nabla J(m, b) = \\frac{\\delta J}{\\delta m}, \\frac{\\delta J}{\\delta b}$$"
   ]
  },
  {
   "cell_type": "markdown",
   "metadata": {},
   "source": [
    "In calculating the partial derivatives of our function $J(m, b) = \\sum_{i=1}^{n}(y_i - (mx_i + b))^2$, **we won't change the result if we ignore the summation until the very end**.  We'll do that to make our calculations easier.\n",
    "\n",
    "Ok, so let's take our partial derivatives of the following:\n",
    "\n",
    "$$\n",
    "\\begin{align}\n",
    "\\frac{\\delta J}{\\delta m}J(m, b) & = \\boldsymbol{\\frac{\\delta J}{\\delta m}}(y - (mx + b))^2  &&\\text{partial derivative with respect to} \\textbf{ m}\\\\\n",
    "\\\\\n",
    "\\frac{\\delta J}{\\delta b}J(m, b) & = \\boldsymbol{\\frac{\\delta J}{\\delta b}}(y - (mx + b))^2  &&\\text{partial derivative with respect to} \\textbf{ b}\\\\\n",
    "\\end{align}\n",
    "$$"
   ]
  },
  {
   "cell_type": "markdown",
   "metadata": {},
   "source": [
    "## Taking our first partial derivative"
   ]
  },
  {
   "cell_type": "markdown",
   "metadata": {},
   "source": [
    "Let's start with taking the **partial derivative** with respect to $m$.\n",
    "\n",
    "$$\\frac{\\delta J}{\\delta m}J(m, b) = \\frac{\\delta J}{\\delta m}(y - (mx + b))^2$$"
   ]
  },
  {
   "cell_type": "markdown",
   "metadata": {},
   "source": [
    "Now this is a tricky function to take the derivative of.  So we can use functional composition followed by the chain rule to make it easier.  Using functional composition, we can rewrite our function $J$ as two functions: "
   ]
  },
  {
   "cell_type": "markdown",
   "metadata": {
    "collapsed": true
   },
   "source": [
    "$$\n",
    "\\begin{align}\n",
    "g(m,b)&= y - (mx + b) &&\\text{set $g$ equal to $y-\\hat{y}$}\\\\\n",
    "\\\\\n",
    "J(g(m,b))&= (g(m,b))^2 &&\\text{now $J$ is a function of $g$ and $J=g^2$}\\\\\n",
    "\\end{align}\n",
    "$$"
   ]
  },
  {
   "cell_type": "markdown",
   "metadata": {},
   "source": [
    "Now using the chain rule to find the partial derivative with respect to a change in the slope, gives us:\n",
    "\n",
    "$$\n",
    "[1]\\mspace{5ex}\\frac{dJ}{dm}J(g) = \\frac{dJ}{dg}J(g(m, b))*\\frac{dg}{dm}g(m,b)\n",
    "$$\n",
    "\n",
    "Because **g** is a function of **m** we get $\\boldsymbol{\\frac{dg}{dm}}(g)$ and \n",
    "\n",
    "**J** is a function of **g (which is a function of m**) we get $\\boldsymbol{\\frac{dJ}{dg}}(J)$."
   ]
  },
  {
   "cell_type": "markdown",
   "metadata": {},
   "source": [
    "Our next step is to solve these derivatives individually: \n",
    "$$\n",
    "\\begin{align}\n",
    "\\frac{dJ}{dg}J(g(m, b))&=\\frac{dJ}{dg}g(m,b)^2 &&\\text{Solve $\\boldsymbol{\\frac{dJ}{dg}}(J)$}\\\\\n",
    "\\\\\n",
    "&= 2*g(m,b)\\\\\n",
    "\\\\\n",
    "\\frac{dg}{dm}g(m,b)&=\\frac{dg}{dm} (y - (mx +b)) &&\\text{Solve $\\boldsymbol{\\frac{dg}{dm}}(g)$}\\\\\n",
    "\\\\\n",
    "&=\\frac{dg}{dm} (y - mx - b)\\\\\n",
    "\\\\\n",
    "&=\\frac{dg}{dm}y - \\frac{dg}{dm}mx - \\frac{dg}{dm}b\\\\\n",
    "\\\\\n",
    "&= 0-x-0\\\\\n",
    "\\\\\n",
    "&=-x\\\\\n",
    "\\end{align}\n",
    "$$"
   ]
  },
  {
   "cell_type": "markdown",
   "metadata": {},
   "source": [
    "> Each of the terms are treated as constants, except for the middle term.  "
   ]
  },
  {
   "cell_type": "markdown",
   "metadata": {},
   "source": [
    "Now plugging these back into our chain rule [1] we have: \n",
    "$$\n",
    "\\begin{align}\n",
    "\\color{blue}{\\frac{dJ}{dg}J(g(m,b))}*\\color{red}{\\frac{dg}{dm}g(m,b)}&=\\color{blue}{(2*g(m,b))}*\\color{red}{-x}\\\\\n",
    "\\\\\n",
    "&= 2*(y - (mx + b))*-x\n",
    "\\\\\n",
    "\\end{align}\n",
    "$$\n",
    " So\n",
    " \n",
    "$$\n",
    "\\begin{align}\n",
    "[1]\\mspace{5ex}\\frac{\\delta J}{\\delta m}J(m, b)&=2*(y - (mx + b))*-x\\\\\n",
    "\\\\\n",
    "&= -2x*(y - (mx + b ))\\\\\n",
    "\\end{align}\n",
    "$$"
   ]
  },
  {
   "cell_type": "markdown",
   "metadata": {},
   "source": [
    "## Our second partial derivative"
   ]
  },
  {
   "cell_type": "markdown",
   "metadata": {},
   "source": [
    "Ok, now let's calculate the partial derivative with respect to a change in the y-intercept.  We express this mathematically with the following:"
   ]
  },
  {
   "cell_type": "markdown",
   "metadata": {},
   "source": [
    "$$\\frac{\\delta J}{\\delta b}J(m, b) = \\frac{dJ}{db}(y - (mx + b))^2$$"
   ]
  },
  {
   "cell_type": "markdown",
   "metadata": {},
   "source": [
    "Then once again, we use functional composition following by the chain rule.  So we view our cost function as the same two functions $g(m,b)$ and $J(g(m,b))$.  "
   ]
  },
  {
   "cell_type": "markdown",
   "metadata": {},
   "source": [
    "$$g(m,b) = y - (mx + b)$$\n",
    "\n",
    "$$J(g(m,b)) = (g(m,b))^2$$"
   ]
  },
  {
   "cell_type": "markdown",
   "metadata": {},
   "source": [
    "So applying the chain rule, to this same function composition, we get:"
   ]
  },
  {
   "cell_type": "markdown",
   "metadata": {},
   "source": [
    "$$[2]\\mspace{5ex}\\frac{dJ}{db}J(g) = \\frac{dJ}{dg}J(g)*\\frac{dg}{db}g(m,b)$$"
   ]
  },
  {
   "cell_type": "markdown",
   "metadata": {},
   "source": [
    "Now, our next step is to calculate these partial derivatives individually."
   ]
  },
  {
   "cell_type": "markdown",
   "metadata": {},
   "source": [
    "From our earlier calculation of the partial derivative, we know that $\\frac{dJ}{dg}J(g(m,b)) = \\frac{dJ}{dg}g(m,b)^2 = 2*g(m,b)$.  The only thing left to calculate is $\\frac{dg}{db}g(m,b)$."
   ]
  },
  {
   "cell_type": "markdown",
   "metadata": {},
   "source": [
    "$$\n",
    "\\begin{align}\n",
    "\\frac{dg}{db}g(m,b)&=\\frac{dg}{db}(y - (mx + b) )\\\\\n",
    "\\\\\n",
    "&=\\frac{dg}{db}(y-mx-b)\\\\\n",
    "\\\\\n",
    "&=\\frac{db}{db}y-\\frac{db}{db}mx-\\frac{dg}{db}b\\\\\n",
    "\\\\\n",
    "&=0-0-1\\\\\n",
    "\\\\\n",
    "&= -1\\\\\n",
    "\\end{align}\n",
    "$$"
   ]
  },
  {
   "cell_type": "markdown",
   "metadata": {},
   "source": [
    "Now we plug our terms into our chain rule [2] and get: \n",
    "\n",
    "$$\n",
    "\\begin{align}\n",
    "\\color{blue}{\\frac{dJ}{dg}J(g)}*\\color{red}{\\frac{dg}{db}g(m,b)}&= \\color{blue}{2*g(m,b)}*\\color{red}{-1}\\\\\n",
    "\\\\\n",
    "&= -2*(y - (mx + b))\\\\\n",
    "\\end{align}\n",
    "$$"
   ]
  },
  {
   "cell_type": "markdown",
   "metadata": {},
   "source": [
    "## Using both of our partial derivatives for gradient descent"
   ]
  },
  {
   "cell_type": "markdown",
   "metadata": {},
   "source": [
    "Ok, so now we have our two partial derivatives for $\\nabla J(m, b)$:\n",
    "\n",
    "$$ \\frac{dJ}{dm}J(m,b) = -2*x(y - (mx + b )) $$\n",
    "$$ \\frac{dJ}{db}J(m,b) = -2*(y - (mx + b)) $$\n",
    "\n",
    "And as $mx + b$ = is just our regression line, we can simplify these formulas to be: \n",
    "\n",
    "$$ \\frac{dJ}{dm}J(m,b) = -2*x(y - \\hat{y})  = -2x*\\epsilon$$\n",
    "$$ \\frac{dJ}{db}J(m,b) = -2*(y - \\hat{y}) = -2\\epsilon$$\n",
    "\n",
    "Remember, `error` = `actual` - `expected`, so we can replace $y - \\hat{y}$ with $\\epsilon$, our error. As we mentioned above, our last step is adding back the summations.  Since $-2$ is a constant, we can keep this outside of the summation.  Our value for $x$ changes depending upon what x value we are at, so it must be included inside the summation for the first equation.  Below, we have: \n",
    "\n",
    "$$ \\frac{dJ}{dm}J(m,b) = -2*\\sum_{i=1}^n x(y_i - \\hat{y}_i)  = -2*\\sum_{i=1}^n x_i*\\epsilon_i$$\n",
    "$$ \\frac{dJ}{db}J(m,b) = -2*\\sum_{i=1}^n(y_i - \\hat{y}_i) = -2*\\sum_{i=1}^n \\epsilon_i$$"
   ]
  },
  {
   "cell_type": "markdown",
   "metadata": {},
   "source": [
    "So that is what what we'll do to find the \"best fit regression line.\"  We'll start with an initial regression line with values of $m$ and $b$.  Then we'll go through our dataset, and we will use the above formulas with each point to tell us how to update our regression line such that it continues to minimize our cost function.\n",
    "\n",
    "In the context of gradient descent, we use these partial derivatives to take a step size.  Remember that our step should be in the opposite direction of our partial derivatives as we are *descending* towards the minimum.  So to take a step towards gradient descent we use the general formula of:\n",
    "\n",
    "`current_m` =  `old_m` $ - \\frac{dJ}{dm}J(m,b)$\n",
    "\n",
    "`current_b` =  `old_b` $ - \\frac{dJ}{db}J(m,b) $\n",
    "\n",
    "or in the code that we just calculated:\n",
    "\n",
    "`current_m` = `old_m` $ -  (-2*\\sum_{i=1}^n x_i*\\epsilon_i )$\n",
    "\n",
    "`current_b` =  `old_b` $ - ( -2*\\sum_{i=1}^n \\epsilon_i )$\n",
    "\n",
    "In the next lesson, we'll work through translating this technique, with use of our $\\nabla J(m, b)$, into code to descend along our cost curve and find the \"best fit\" regression line."
   ]
  },
  {
   "cell_type": "code",
   "execution_count": 10,
   "metadata": {},
   "outputs": [
    {
     "data": {
      "image/png": "[encoded data removed]",
      "text/plain": [
       "<matplotlib.figure.Figure at 0x111816ef0>"
      ]
     },
     "metadata": {},
     "output_type": "display_data"
    }
   ],
   "source": [
    "import numpy as np\n",
    "import matplotlib.pyplot as plt\n",
    "\n",
    "def regression_formula(x):\n",
    "    return 1.319 + 52*x\n",
    "\n",
    "np.random.seed(225)\n",
    "\n",
    "x = np.random.rand(30,1).reshape(30)\n",
    "y_randterm = np.random.normal(0,3,30)\n",
    "y = 3+ 50* x + y_randterm\n",
    "\n",
    "plt.figure(figsize=(7,5))\n",
    "plt.plot(x, y, '.b')\n",
    "plt.plot(x, regression_formula(x), '-', color=\"red\")\n",
    "plt.xlabel(\"x\", fontsize=14)\n",
    "plt.ylabel(\"y\", fontsize=14);"
   ]
  },
  {
   "cell_type": "markdown",
   "metadata": {},
   "source": [
    "## Summary"
   ]
  },
  {
   "cell_type": "markdown",
   "metadata": {
    "collapsed": true
   },
   "source": [
    "In this section, we developed some intuition for why the gradient of a function is the direction of steepest ascent and the negative gradient of a function is the direction of steepest decent.  Essentially, the gradient uses the partial derivatives to see what change will result from changes in the function's dimensions, and then moves in that direction weighted more towards the partial derivative with the larger magnitude.\n",
    "\n",
    "We also practiced calculating some gradients, and ultimately calculated the gradient for our cost function.  This gave us two formulas which tell us how to update our regression line so that it descends along our cost function and approaches a \"best fit line\"."
   ]
  }
 ],
 "metadata": {
  "kernelspec": {
   "display_name": "Python 3",
   "language": "python",
   "name": "python3"
  },
  "language_info": {
   "codemirror_mode": {
    "name": "ipython",
    "version": 3
   },
   "file_extension": ".py",
   "mimetype": "text/x-python",
   "name": "python",
   "nbconvert_exporter": "python",
   "pygments_lexer": "ipython3",
   "version": "3.6.6"
  }
 },
 "nbformat": 4,
 "nbformat_minor": 2
}
